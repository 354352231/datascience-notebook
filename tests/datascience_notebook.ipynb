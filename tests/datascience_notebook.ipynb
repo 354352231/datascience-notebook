{
 "nbformat": 4,
 "nbformat_minor": 2,
 "metadata": {
  "language_info": {
   "name": "python",
   "codemirror_mode": {
    "name": "ipython",
    "version": 3
   },
   "version": "3.6.8-final"
  },
  "orig_nbformat": 2,
  "file_extension": ".py",
  "mimetype": "text/x-python",
  "name": "python",
  "npconvert_exporter": "python",
  "pygments_lexer": "ipython3",
  "version": 3,
  "kernelspec": {
   "name": "python36864bitaed85d4181ba4aae8deef210d1b174de",
   "display_name": "Python 3.6.8 64-bit"
  }
 },
 "cells": [
  {
   "cell_type": "markdown",
   "metadata": {},
   "source": [
    "# Inherited packages\n",
    "\n",
    "    'beautifulsoup4=4.8.*' \\\n",
    "    'conda-forge::blas=*=openblas' \\\n",
    "    'bokeh=1.4.*' \\\n",
    "    'cloudpickle=1.3.*' \\\n",
    "    'cython=0.29.*' \\\n",
    "    'dask=2.11.*' \\\n",
    "    'dill=0.3.*' \\\n",
    "    'h5py=2.10.*' \\\n",
    "    'hdf5=1.10.*' \\\n",
    "    'ipywidgets=7.5.*' \\\n",
    "    'ipympl=0.5.*'\\\n",
    "    'matplotlib-base=3.1.*' \\\n",
    "    'numba=0.48.*' \\\n",
    "    'numexpr=2.7.*' \\\n",
    "    'pandas=1.0.*' \\\n",
    "    'patsy=0.5.*' \\\n",
    "    'protobuf=3.11.*' \\\n",
    "    'scikit-image=0.16.*' \\\n",
    "    'scikit-learn=0.22.*' \\\n",
    "    'scipy=1.4.*' \\\n",
    "    'seaborn=0.10.*' \\\n",
    "    'sqlalchemy=1.3.*' \\\n",
    "    'statsmodels=0.11.*' \\\n",
    "    'sympy=1.5.*' \\\n",
    "    'vincent=0.4.*' \\\n",
    "    'widgetsnbextension=3.5.*'\\\n",
    "    'xlrd' \\"
   ]
  },
  {
   "cell_type": "code",
   "execution_count": 1,
   "metadata": {},
   "outputs": [
    {
     "output_type": "error",
     "ename": "ModuleNotFoundError",
     "evalue": "No module named 'beautifulsoup4'",
     "traceback": [
      "\u001b[0;31m---------------------------------------------------------------------------\u001b[0m",
      "\u001b[0;31mModuleNotFoundError\u001b[0m                       Traceback (most recent call last)",
      "\u001b[0;32m<ipython-input-1-545e04fb9496>\u001b[0m in \u001b[0;36m<module>\u001b[0;34m()\u001b[0m\n\u001b[0;32m----> 1\u001b[0;31m \u001b[0;32mimport\u001b[0m \u001b[0mbeautifulsoup4\u001b[0m \u001b[0;32mas\u001b[0m \u001b[0mbs4\u001b[0m\u001b[0;34m\u001b[0m\u001b[0;34m\u001b[0m\u001b[0m\n\u001b[0m\u001b[1;32m      2\u001b[0m \u001b[0;32mimport\u001b[0m \u001b[0mbokeh\u001b[0m\u001b[0;34m\u001b[0m\u001b[0;34m\u001b[0m\u001b[0m\n\u001b[1;32m      3\u001b[0m \u001b[0;32mimport\u001b[0m \u001b[0mcloudpickle\u001b[0m\u001b[0;34m\u001b[0m\u001b[0;34m\u001b[0m\u001b[0m\n\u001b[1;32m      4\u001b[0m \u001b[0;32mimport\u001b[0m \u001b[0mdask\u001b[0m\u001b[0;34m\u001b[0m\u001b[0;34m\u001b[0m\u001b[0m\n\u001b[1;32m      5\u001b[0m \u001b[0;32mimport\u001b[0m \u001b[0mdill\u001b[0m\u001b[0;34m\u001b[0m\u001b[0;34m\u001b[0m\u001b[0m\n",
      "\u001b[0;31mModuleNotFoundError\u001b[0m: No module named 'beautifulsoup4'"
     ]
    }
   ],
   "source": [
    "import bs4\n",
    "import bokeh\n",
    "import cloudpickle\n",
    "import dask\n",
    "import dill\n",
    "# import h5py (need to test this, has import errors)\n",
    "import ipywidgets\n",
    "# import ipympl (not testable unless UI)\n",
    "import matplotlib\n",
    "import matplotlib.pyplot as plt\n",
    "import nbgrader.apps.submitapp\n",
    "import pandas as pd\n",
    "import patsy\n",
    "import sklearn\n",
    "import scipy\n",
    "import seaborn\n",
    "import sqlalchemy\n",
    "import statsmodels\n",
    "import vincent\n",
    "import widgetsnbextension\n",
    "import xlrd"
   ]
  },
  {
   "cell_type": "code",
   "execution_count": null,
   "metadata": {},
   "outputs": [],
   "source": [
    "# skimage\n",
    "\n",
    "from skimage import data\n",
    "import os\n",
    "\n",
    "TESTDIR = '/usr/share/datahub/tests/datascience-notebook'\n",
    "IMG = os.path.join(TESTDIR, 'testfig.png')\n",
    "\n",
    "matplotlib.rcParams['font.size'] = 18\n",
    "fig, axes = plt.subplots(1, 2, figsize=(8, 4))\n",
    "ax = axes.ravel()\n",
    "\n",
    "images = data.stereo_motorcycle()\n",
    "ax[0].imshow(images[0])\n",
    "ax[1].imshow(images[1])\n",
    "\n",
    "fig.tight_layout()\n",
    "plt.show()\n",
    "plt.savefig(IMG)\n",
    "\n",
    "assert os.path.isfile(IMG)"
   ]
  },
  {
   "cell_type": "code",
   "execution_count": null,
   "metadata": {},
   "outputs": [],
   "source": [
    "from sympy import symbols\n",
    "x, y = symbols('x y')\n",
    "expr = x + 2*y"
   ]
  }
 ]
}